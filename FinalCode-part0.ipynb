{
 "cells": [
  {
   "cell_type": "code",
   "execution_count": 1,
   "metadata": {
    "collapsed": true
   },
   "outputs": [],
   "source": [
    "import numpy as np\n",
    "import tensorflow as tf\n",
    "import re\n",
    "from collections import Counter\n",
    "import json\n",
    "from pprint import pprint\n",
    "import datetime as dt\n",
    "import csv"
   ]
  },
  {
   "cell_type": "code",
   "execution_count": 2,
   "metadata": {
    "collapsed": true
   },
   "outputs": [],
   "source": [
    "sentence = []\n",
    "score = []"
   ]
  },
  {
   "cell_type": "code",
   "execution_count": 3,
   "metadata": {
    "collapsed": true
   },
   "outputs": [],
   "source": [
    "with open('beam_cable_google_tagged_data.json') as data_file:\n",
    "    data1 = json.load(data_file)\n",
    "with open('droom_google_tagged_data.json') as data_file:\n",
    "    data2 = json.load(data_file)\n",
    "    \n",
    "for d in data1['data']:\n",
    "    conversation = d['conversation']\n",
    "    for c in conversation:\n",
    "        sentiment = float(c['sentiment'])\n",
    "        sentiment = -1 if (sentiment < 0) else 1\n",
    "        score.append(sentiment)\n",
    "        dialogue = (c['text'])\n",
    "        sentence.append(dialogue)\n",
    "\n",
    "\n",
    "for d in data2['data']:\n",
    "    conversation = d['conversation']\n",
    "    for c in conversation:\n",
    "        sentiment = float(c['sentiment'])\n",
    "        sentiment = -1 if (sentiment < 0) else 1\n",
    "        score.append(sentiment)\n",
    "        dialogue = (c['text'])\n",
    "        sentence.append(dialogue)\n",
    "        "
   ]
  },
  {
   "cell_type": "code",
   "execution_count": 4,
   "metadata": {
    "collapsed": true
   },
   "outputs": [],
   "source": [
    "from random import shuffle\n",
    "data = list(zip(sentence, score))\n",
    "shuffle(data)\n",
    "\n",
    "sentence = [ item[0] for item in data]\n",
    "score = [ item[1] for item in data]\n"
   ]
  },
  {
   "cell_type": "code",
   "execution_count": 5,
   "metadata": {
    "collapsed": true
   },
   "outputs": [],
   "source": [
    "features = sentence\n",
    "labels = score\n",
    "\n",
    "split_frac = 0.6\n",
    "split_idx = int(len(features)*split_frac)\n",
    "train_x, val_x = features[:split_idx], features[split_idx:]\n",
    "train_y, val_y = labels[:split_idx], labels[split_idx:]\n",
    "\n",
    "\n",
    "test_idx = int(len(val_x)*0.5)\n",
    "val_x, test_x = val_x[:test_idx], val_x[test_idx:]\n",
    "val_y, test_y = val_y[:test_idx], val_y[test_idx:]"
   ]
  },
  {
   "cell_type": "code",
   "execution_count": 6,
   "metadata": {
    "collapsed": true
   },
   "outputs": [],
   "source": [
    "with open('train.csv','w') as train:\n",
    "    writer = csv.writer(train, delimiter ='$')\n",
    "    for i in range(len(train_x)):\n",
    "        writer.writerow([train_y[i], train_x[i]])"
   ]
  },
  {
   "cell_type": "code",
   "execution_count": 7,
   "metadata": {
    "collapsed": true
   },
   "outputs": [],
   "source": [
    "with open('valid.csv','w') as valid:\n",
    "    writer = csv.writer(valid, delimiter ='$')\n",
    "    for i in range(len(val_x)):\n",
    "        writer.writerow([val_y[i], val_x[i]])"
   ]
  },
  {
   "cell_type": "code",
   "execution_count": 8,
   "metadata": {
    "collapsed": true
   },
   "outputs": [],
   "source": [
    "with open('test.csv','w') as test:\n",
    "    writer = csv.writer(test, delimiter ='$')\n",
    "    for i in range(len(test_x)):\n",
    "        writer.writerow([test_y[i], test_x[i]])"
   ]
  }
 ],
 "metadata": {
  "kernelspec": {
   "display_name": "Python 3",
   "language": "python",
   "name": "python3"
  },
  "language_info": {
   "codemirror_mode": {
    "name": "ipython",
    "version": 3
   },
   "file_extension": ".py",
   "mimetype": "text/x-python",
   "name": "python",
   "nbconvert_exporter": "python",
   "pygments_lexer": "ipython3",
   "version": "3.6.1"
  }
 },
 "nbformat": 4,
 "nbformat_minor": 2
}
